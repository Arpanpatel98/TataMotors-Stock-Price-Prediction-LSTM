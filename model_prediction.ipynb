{
 "cells": [
  {
   "cell_type": "code",
   "execution_count": 1,
   "metadata": {},
   "outputs": [],
   "source": [
    "import joblib\n",
    "import numpy as np\n",
    "from tensorflow.keras.models import load_model\n",
    "\n",
    "def predict_stock_price(open_price, low_price, high_price, volume):\n",
    "\n",
    "    # Load the scaler\n",
    "    scaler = joblib.load('scaler.save')\n",
    "\n",
    "    # Load the model\n",
    "    model = load_model('TataMotors_Stock_Price_Prediction_3_Diff.h5')\n",
    "\n",
    "    # Prepare input data\n",
    "    user_input = [[open_price, low_price, high_price, volume]]\n",
    "    user_input_scaled = scaler.transform(user_input)\n",
    "    user_input_scaled = np.array(user_input_scaled).reshape(1, 1, 4)\n",
    "\n",
    "    # Predict the close price\n",
    "    pred_close = model.predict(user_input_scaled, verbose=0)\n",
    "\n",
    "    # Output the prediction\n",
    "    # print(\"\\n\\nPredicted Close Value:\", pred_close[0][0][0])\n",
    "\n",
    "    return pred_close[0][0][0]\n"
   ]
  },
  {
   "cell_type": "code",
   "execution_count": 2,
   "metadata": {},
   "outputs": [
    {
     "ename": "FileNotFoundError",
     "evalue": "[Errno 2] No such file or directory: 'scaler.save'",
     "output_type": "error",
     "traceback": [
      "\u001b[0;31m---------------------------------------------------------------------------\u001b[0m",
      "\u001b[0;31mFileNotFoundError\u001b[0m                         Traceback (most recent call last)",
      "Cell \u001b[0;32mIn[2], line 8\u001b[0m\n\u001b[1;32m      4\u001b[0m High \u001b[38;5;241m=\u001b[39m \u001b[38;5;241m1099.95\u001b[39m\n\u001b[1;32m      5\u001b[0m Volume \u001b[38;5;241m=\u001b[39m \u001b[38;5;241m11440000\u001b[39m\n\u001b[0;32m----> 8\u001b[0m price \u001b[38;5;241m=\u001b[39m \u001b[43mpredict_stock_price\u001b[49m\u001b[43m(\u001b[49m\u001b[43mOpen\u001b[49m\u001b[43m,\u001b[49m\u001b[43m \u001b[49m\u001b[43mLow\u001b[49m\u001b[43m,\u001b[49m\u001b[43m \u001b[49m\u001b[43mHigh\u001b[49m\u001b[43m,\u001b[49m\u001b[43m \u001b[49m\u001b[43mVolume\u001b[49m\u001b[43m)\u001b[49m\n\u001b[1;32m      9\u001b[0m \u001b[38;5;28mprint\u001b[39m(\u001b[38;5;124m\"\u001b[39m\u001b[38;5;124mPredicted Close Value: \u001b[39m\u001b[38;5;124m\"\u001b[39m, price)\n",
      "Cell \u001b[0;32mIn[1], line 8\u001b[0m, in \u001b[0;36mpredict_stock_price\u001b[0;34m(open_price, low_price, high_price, volume)\u001b[0m\n\u001b[1;32m      5\u001b[0m \u001b[38;5;28;01mdef\u001b[39;00m \u001b[38;5;21mpredict_stock_price\u001b[39m(open_price, low_price, high_price, volume):\n\u001b[1;32m      6\u001b[0m \n\u001b[1;32m      7\u001b[0m     \u001b[38;5;66;03m# Load the scaler\u001b[39;00m\n\u001b[0;32m----> 8\u001b[0m     scaler \u001b[38;5;241m=\u001b[39m \u001b[43mjoblib\u001b[49m\u001b[38;5;241;43m.\u001b[39;49m\u001b[43mload\u001b[49m\u001b[43m(\u001b[49m\u001b[38;5;124;43m'\u001b[39;49m\u001b[38;5;124;43mscaler.save\u001b[39;49m\u001b[38;5;124;43m'\u001b[39;49m\u001b[43m)\u001b[49m\n\u001b[1;32m     10\u001b[0m     \u001b[38;5;66;03m# Load the model\u001b[39;00m\n\u001b[1;32m     11\u001b[0m     model \u001b[38;5;241m=\u001b[39m load_model(\u001b[38;5;124m'\u001b[39m\u001b[38;5;124mTataMotors_Stock_Price_Prediction_3_Diff.h5\u001b[39m\u001b[38;5;124m'\u001b[39m)\n",
      "File \u001b[0;32m~/Documents/Arpan/AI_Projects/Tata_Motors_Stock_Predictions/Stock_Price_Prediction_Env/lib/python3.9/site-packages/joblib/numpy_pickle.py:650\u001b[0m, in \u001b[0;36mload\u001b[0;34m(filename, mmap_mode)\u001b[0m\n\u001b[1;32m    648\u001b[0m         obj \u001b[38;5;241m=\u001b[39m _unpickle(fobj)\n\u001b[1;32m    649\u001b[0m \u001b[38;5;28;01melse\u001b[39;00m:\n\u001b[0;32m--> 650\u001b[0m     \u001b[38;5;28;01mwith\u001b[39;00m \u001b[38;5;28;43mopen\u001b[39;49m\u001b[43m(\u001b[49m\u001b[43mfilename\u001b[49m\u001b[43m,\u001b[49m\u001b[43m \u001b[49m\u001b[38;5;124;43m'\u001b[39;49m\u001b[38;5;124;43mrb\u001b[39;49m\u001b[38;5;124;43m'\u001b[39;49m\u001b[43m)\u001b[49m \u001b[38;5;28;01mas\u001b[39;00m f:\n\u001b[1;32m    651\u001b[0m         \u001b[38;5;28;01mwith\u001b[39;00m _read_fileobject(f, filename, mmap_mode) \u001b[38;5;28;01mas\u001b[39;00m fobj:\n\u001b[1;32m    652\u001b[0m             \u001b[38;5;28;01mif\u001b[39;00m \u001b[38;5;28misinstance\u001b[39m(fobj, \u001b[38;5;28mstr\u001b[39m):\n\u001b[1;32m    653\u001b[0m                 \u001b[38;5;66;03m# if the returned file object is a string, this means we\u001b[39;00m\n\u001b[1;32m    654\u001b[0m                 \u001b[38;5;66;03m# try to load a pickle file generated with an version of\u001b[39;00m\n\u001b[1;32m    655\u001b[0m                 \u001b[38;5;66;03m# Joblib so we load it with joblib compatibility function.\u001b[39;00m\n",
      "\u001b[0;31mFileNotFoundError\u001b[0m: [Errno 2] No such file or directory: 'scaler.save'"
     ]
    }
   ],
   "source": [
    "# Example input features\n",
    "Open = 1072.00\n",
    "Low = 1070.00\n",
    "High = 1099.95\n",
    "Volume = 11440000\n",
    "\n",
    "\n",
    "price = predict_stock_price(Open, Low, High, Volume)\n",
    "print(\"Predicted Close Value: \", price)"
   ]
  },
  {
   "cell_type": "code",
   "execution_count": null,
   "metadata": {},
   "outputs": [],
   "source": []
  }
 ],
 "metadata": {
  "kernelspec": {
   "display_name": "Stock_Price_Prediction_Env",
   "language": "python",
   "name": "python3"
  },
  "language_info": {
   "codemirror_mode": {
    "name": "ipython",
    "version": 3
   },
   "file_extension": ".py",
   "mimetype": "text/x-python",
   "name": "python",
   "nbconvert_exporter": "python",
   "pygments_lexer": "ipython3",
   "version": "3.9.19"
  }
 },
 "nbformat": 4,
 "nbformat_minor": 2
}
