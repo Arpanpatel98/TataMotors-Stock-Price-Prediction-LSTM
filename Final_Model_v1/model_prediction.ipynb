{
 "cells": [
  {
   "cell_type": "code",
   "execution_count": null,
   "metadata": {},
   "outputs": [],
   "source": [
    "!pip install numpy keras joblib tensorflow scikit-learn"
   ]
  },
  {
   "cell_type": "code",
   "execution_count": 1,
   "metadata": {},
   "outputs": [],
   "source": [
    "import joblib\n",
    "import numpy as np\n",
    "from keras.models import load_model\n",
    "\n",
    "def predict_stock_price(open_price, low_price, high_price, volume):\n",
    "\n",
    "    # Load the scaler\n",
    "    scaler = joblib.load('scaler.save')\n",
    "\n",
    "    # Load the model\n",
    "    model = load_model('TataMotors_Stock_Price_Prediction_3_Diff.h5')\n",
    "\n",
    "    # Prepare input data\n",
    "    user_input = [[open_price, low_price, high_price, volume]]\n",
    "    user_input_scaled = scaler.transform(user_input)\n",
    "    user_input_scaled = np.array(user_input_scaled).reshape(1, 1, 4)\n",
    "\n",
    "    # Predict the close price\n",
    "    pred_close = model.predict(user_input_scaled, verbose=0)\n",
    "\n",
    "    # Output the prediction\n",
    "    # print(\"\\n\\nPredicted Close Value:\", pred_close[0][0][0])\n",
    "\n",
    "    return pred_close[0][0][0]\n"
   ]
  },
  {
   "cell_type": "code",
   "execution_count": 2,
   "metadata": {},
   "outputs": [
    {
     "name": "stdout",
     "output_type": "stream",
     "text": [
      "WARNING:tensorflow:Layer lstm_86 will not use cuDNN kernels since it doesn't meet the criteria. It will use a generic GPU kernel as fallback when running on GPU.\n",
      "WARNING:tensorflow:Layer lstm_87 will not use cuDNN kernels since it doesn't meet the criteria. It will use a generic GPU kernel as fallback when running on GPU.\n",
      "WARNING:tensorflow:Layer lstm_88 will not use cuDNN kernels since it doesn't meet the criteria. It will use a generic GPU kernel as fallback when running on GPU.\n",
      "WARNING:tensorflow:Layer lstm_89 will not use cuDNN kernels since it doesn't meet the criteria. It will use a generic GPU kernel as fallback when running on GPU.\n"
     ]
    },
    {
     "name": "stderr",
     "output_type": "stream",
     "text": [
      "/Users/arpanpatel/Documents/Arpan/AI_Projects/Tata_Motors_Stock_Predictions/Stock_Price_Prediction_Env/lib/python3.9/site-packages/sklearn/base.py:493: UserWarning: X does not have valid feature names, but MinMaxScaler was fitted with feature names\n",
      "  warnings.warn(\n",
      "2024-08-18 19:26:24.565604: W tensorflow/tsl/platform/profile_utils/cpu_utils.cc:128] Failed to get CPU frequency: 0 Hz\n"
     ]
    },
    {
     "name": "stdout",
     "output_type": "stream",
     "text": [
      "\n",
      "\n",
      " Predicted Close Value:  1087.6254\n"
     ]
    }
   ],
   "source": [
    "# Example input features\n",
    "Open = 1072.00\n",
    "Low = 1070.00\n",
    "High = 1099.95\n",
    "Volume = 11440000\n",
    "\n",
    "\n",
    "price = predict_stock_price(Open, Low, High, Volume)\n",
    "print(\"\\n\\n Predicted Close Value: \", price)"
   ]
  },
  {
   "cell_type": "code",
   "execution_count": null,
   "metadata": {},
   "outputs": [],
   "source": []
  }
 ],
 "metadata": {
  "kernelspec": {
   "display_name": "Stock_Price_Prediction_Env",
   "language": "python",
   "name": "python3"
  },
  "language_info": {
   "codemirror_mode": {
    "name": "ipython",
    "version": 3
   },
   "file_extension": ".py",
   "mimetype": "text/x-python",
   "name": "python",
   "nbconvert_exporter": "python",
   "pygments_lexer": "ipython3",
   "version": "3.9.19"
  }
 },
 "nbformat": 4,
 "nbformat_minor": 2
}
