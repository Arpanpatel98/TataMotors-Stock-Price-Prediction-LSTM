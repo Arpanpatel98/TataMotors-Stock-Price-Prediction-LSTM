{
 "cells": [
  {
   "cell_type": "code",
   "execution_count": 1,
   "metadata": {},
   "outputs": [],
   "source": [
    "# Libraries\n",
    "import numpy as np\n",
    "import pandas as pd\n",
    "import matplotlib.pyplot as plt\n",
    "from sklearn.preprocessing import MinMaxScaler\n",
    "import tensorflow as tf\n",
    "from tensorflow.keras.models import Sequential\n",
    "from tensorflow.keras.layers import Dense, LSTM, Dropout\n",
    "from sklearn.metrics import mean_squared_error\n",
    "from sklearn.model_selection import TimeSeriesSplit\n",
    "from keras. utils.vis_utils import plot_model\n",
    "from keras.callbacks import EarlyStopping,ModelCheckpoint\n",
    "from keras.optimizers import Adam \n",
    "\n",
    "\n"
   ]
  },
  {
   "cell_type": "code",
   "execution_count": 2,
   "metadata": {},
   "outputs": [
    {
     "data": {
      "text/plain": [
       "[PhysicalDevice(name='/physical_device:GPU:0', device_type='GPU')]"
      ]
     },
     "execution_count": 2,
     "metadata": {},
     "output_type": "execute_result"
    }
   ],
   "source": [
    "tf.config.list_physical_devices('GPU')"
   ]
  },
  {
   "cell_type": "code",
   "execution_count": 3,
   "metadata": {},
   "outputs": [
    {
     "data": {
      "text/html": [
       "<div>\n",
       "<style scoped>\n",
       "    .dataframe tbody tr th:only-of-type {\n",
       "        vertical-align: middle;\n",
       "    }\n",
       "\n",
       "    .dataframe tbody tr th {\n",
       "        vertical-align: top;\n",
       "    }\n",
       "\n",
       "    .dataframe thead th {\n",
       "        text-align: right;\n",
       "    }\n",
       "</style>\n",
       "<table border=\"1\" class=\"dataframe\">\n",
       "  <thead>\n",
       "    <tr style=\"text-align: right;\">\n",
       "      <th></th>\n",
       "      <th>Date</th>\n",
       "      <th>Open</th>\n",
       "      <th>High</th>\n",
       "      <th>Low</th>\n",
       "      <th>Close</th>\n",
       "      <th>Adj Close</th>\n",
       "      <th>Volume</th>\n",
       "    </tr>\n",
       "  </thead>\n",
       "  <tbody>\n",
       "    <tr>\n",
       "      <th>0</th>\n",
       "      <td>1991-01-02</td>\n",
       "      <td>20.959597</td>\n",
       "      <td>21.857864</td>\n",
       "      <td>20.959597</td>\n",
       "      <td>21.857864</td>\n",
       "      <td>15.690223</td>\n",
       "      <td>0.0</td>\n",
       "    </tr>\n",
       "    <tr>\n",
       "      <th>1</th>\n",
       "      <td>1991-01-03</td>\n",
       "      <td>20.959597</td>\n",
       "      <td>21.857864</td>\n",
       "      <td>20.959597</td>\n",
       "      <td>21.857864</td>\n",
       "      <td>15.690223</td>\n",
       "      <td>0.0</td>\n",
       "    </tr>\n",
       "    <tr>\n",
       "      <th>2</th>\n",
       "      <td>1991-01-04</td>\n",
       "      <td>21.857864</td>\n",
       "      <td>21.857864</td>\n",
       "      <td>21.857864</td>\n",
       "      <td>21.857864</td>\n",
       "      <td>15.690223</td>\n",
       "      <td>0.0</td>\n",
       "    </tr>\n",
       "    <tr>\n",
       "      <th>3</th>\n",
       "      <td>1991-01-07</td>\n",
       "      <td>20.360750</td>\n",
       "      <td>21.259020</td>\n",
       "      <td>20.061329</td>\n",
       "      <td>21.109308</td>\n",
       "      <td>15.152885</td>\n",
       "      <td>0.0</td>\n",
       "    </tr>\n",
       "    <tr>\n",
       "      <th>4</th>\n",
       "      <td>1991-01-08</td>\n",
       "      <td>21.109308</td>\n",
       "      <td>21.109308</td>\n",
       "      <td>21.109308</td>\n",
       "      <td>21.109308</td>\n",
       "      <td>15.152885</td>\n",
       "      <td>0.0</td>\n",
       "    </tr>\n",
       "  </tbody>\n",
       "</table>\n",
       "</div>"
      ],
      "text/plain": [
       "         Date       Open       High        Low      Close  Adj Close  Volume\n",
       "0  1991-01-02  20.959597  21.857864  20.959597  21.857864  15.690223     0.0\n",
       "1  1991-01-03  20.959597  21.857864  20.959597  21.857864  15.690223     0.0\n",
       "2  1991-01-04  21.857864  21.857864  21.857864  21.857864  15.690223     0.0\n",
       "3  1991-01-07  20.360750  21.259020  20.061329  21.109308  15.152885     0.0\n",
       "4  1991-01-08  21.109308  21.109308  21.109308  21.109308  15.152885     0.0"
      ]
     },
     "execution_count": 3,
     "metadata": {},
     "output_type": "execute_result"
    }
   ],
   "source": [
    "df = pd.read_csv('DataSets/TATAMOTORS_02_JUN_1991_18_AUG_2024.csv')\n",
    "df.head()"
   ]
  },
  {
   "cell_type": "code",
   "execution_count": 4,
   "metadata": {},
   "outputs": [
    {
     "data": {
      "text/html": [
       "<div>\n",
       "<style scoped>\n",
       "    .dataframe tbody tr th:only-of-type {\n",
       "        vertical-align: middle;\n",
       "    }\n",
       "\n",
       "    .dataframe tbody tr th {\n",
       "        vertical-align: top;\n",
       "    }\n",
       "\n",
       "    .dataframe thead th {\n",
       "        text-align: right;\n",
       "    }\n",
       "</style>\n",
       "<table border=\"1\" class=\"dataframe\">\n",
       "  <thead>\n",
       "    <tr style=\"text-align: right;\">\n",
       "      <th></th>\n",
       "      <th>Date</th>\n",
       "      <th>Open</th>\n",
       "      <th>High</th>\n",
       "      <th>Low</th>\n",
       "      <th>Close</th>\n",
       "      <th>Adj Close</th>\n",
       "      <th>Volume</th>\n",
       "    </tr>\n",
       "  </thead>\n",
       "  <tbody>\n",
       "    <tr>\n",
       "      <th>8454</th>\n",
       "      <td>2024-06-10</td>\n",
       "      <td>977.000000</td>\n",
       "      <td>984.900024</td>\n",
       "      <td>969.099976</td>\n",
       "      <td>975.150024</td>\n",
       "      <td>972.150024</td>\n",
       "      <td>9258931.0</td>\n",
       "    </tr>\n",
       "    <tr>\n",
       "      <th>8455</th>\n",
       "      <td>2024-06-11</td>\n",
       "      <td>973.799988</td>\n",
       "      <td>992.549988</td>\n",
       "      <td>966.650024</td>\n",
       "      <td>987.099976</td>\n",
       "      <td>987.099976</td>\n",
       "      <td>14828702.0</td>\n",
       "    </tr>\n",
       "    <tr>\n",
       "      <th>8456</th>\n",
       "      <td>2024-06-12</td>\n",
       "      <td>994.500000</td>\n",
       "      <td>1010.250000</td>\n",
       "      <td>987.000000</td>\n",
       "      <td>988.700012</td>\n",
       "      <td>988.700012</td>\n",
       "      <td>17527993.0</td>\n",
       "    </tr>\n",
       "    <tr>\n",
       "      <th>8457</th>\n",
       "      <td>2024-06-13</td>\n",
       "      <td>1002.000000</td>\n",
       "      <td>1002.000000</td>\n",
       "      <td>980.750000</td>\n",
       "      <td>985.849976</td>\n",
       "      <td>985.849976</td>\n",
       "      <td>12157226.0</td>\n",
       "    </tr>\n",
       "    <tr>\n",
       "      <th>8458</th>\n",
       "      <td>2024-06-14</td>\n",
       "      <td>990.000000</td>\n",
       "      <td>997.250000</td>\n",
       "      <td>981.400024</td>\n",
       "      <td>993.400024</td>\n",
       "      <td>993.400024</td>\n",
       "      <td>11591421.0</td>\n",
       "    </tr>\n",
       "  </tbody>\n",
       "</table>\n",
       "</div>"
      ],
      "text/plain": [
       "            Date         Open         High         Low       Close  \\\n",
       "8454  2024-06-10   977.000000   984.900024  969.099976  975.150024   \n",
       "8455  2024-06-11   973.799988   992.549988  966.650024  987.099976   \n",
       "8456  2024-06-12   994.500000  1010.250000  987.000000  988.700012   \n",
       "8457  2024-06-13  1002.000000  1002.000000  980.750000  985.849976   \n",
       "8458  2024-06-14   990.000000   997.250000  981.400024  993.400024   \n",
       "\n",
       "       Adj Close      Volume  \n",
       "8454  972.150024   9258931.0  \n",
       "8455  987.099976  14828702.0  \n",
       "8456  988.700012  17527993.0  \n",
       "8457  985.849976  12157226.0  \n",
       "8458  993.400024  11591421.0  "
      ]
     },
     "execution_count": 4,
     "metadata": {},
     "output_type": "execute_result"
    }
   ],
   "source": [
    "df.tail()"
   ]
  },
  {
   "cell_type": "code",
   "execution_count": 5,
   "metadata": {},
   "outputs": [],
   "source": [
    "df = df.dropna()\n",
    "df = df[df['Volume']!=0]"
   ]
  },
  {
   "cell_type": "code",
   "execution_count": 6,
   "metadata": {},
   "outputs": [
    {
     "name": "stdout",
     "output_type": "stream",
     "text": [
      "<class 'pandas.core.frame.DataFrame'>\n",
      "Index: 7138 entries, 1178 to 8458\n",
      "Data columns (total 7 columns):\n",
      " #   Column     Non-Null Count  Dtype  \n",
      "---  ------     --------------  -----  \n",
      " 0   Date       7138 non-null   object \n",
      " 1   Open       7138 non-null   float64\n",
      " 2   High       7138 non-null   float64\n",
      " 3   Low        7138 non-null   float64\n",
      " 4   Close      7138 non-null   float64\n",
      " 5   Adj Close  7138 non-null   float64\n",
      " 6   Volume     7138 non-null   float64\n",
      "dtypes: float64(6), object(1)\n",
      "memory usage: 446.1+ KB\n"
     ]
    }
   ],
   "source": [
    "df.info()\n"
   ]
  },
  {
   "cell_type": "code",
   "execution_count": 7,
   "metadata": {},
   "outputs": [
    {
     "data": {
      "text/html": [
       "<div>\n",
       "<style scoped>\n",
       "    .dataframe tbody tr th:only-of-type {\n",
       "        vertical-align: middle;\n",
       "    }\n",
       "\n",
       "    .dataframe tbody tr th {\n",
       "        vertical-align: top;\n",
       "    }\n",
       "\n",
       "    .dataframe thead th {\n",
       "        text-align: right;\n",
       "    }\n",
       "</style>\n",
       "<table border=\"1\" class=\"dataframe\">\n",
       "  <thead>\n",
       "    <tr style=\"text-align: right;\">\n",
       "      <th></th>\n",
       "      <th>Open</th>\n",
       "      <th>High</th>\n",
       "      <th>Low</th>\n",
       "      <th>Close</th>\n",
       "      <th>Adj Close</th>\n",
       "      <th>Volume</th>\n",
       "    </tr>\n",
       "  </thead>\n",
       "  <tbody>\n",
       "    <tr>\n",
       "      <th>count</th>\n",
       "      <td>7138.000000</td>\n",
       "      <td>7138.000000</td>\n",
       "      <td>7138.000000</td>\n",
       "      <td>7138.000000</td>\n",
       "      <td>7138.000000</td>\n",
       "      <td>7.138000e+03</td>\n",
       "    </tr>\n",
       "    <tr>\n",
       "      <th>mean</th>\n",
       "      <td>211.315819</td>\n",
       "      <td>214.385869</td>\n",
       "      <td>207.818125</td>\n",
       "      <td>210.980768</td>\n",
       "      <td>203.117295</td>\n",
       "      <td>1.519189e+07</td>\n",
       "    </tr>\n",
       "    <tr>\n",
       "      <th>std</th>\n",
       "      <td>189.868939</td>\n",
       "      <td>191.860736</td>\n",
       "      <td>187.401432</td>\n",
       "      <td>189.547886</td>\n",
       "      <td>192.250175</td>\n",
       "      <td>2.028181e+07</td>\n",
       "    </tr>\n",
       "    <tr>\n",
       "      <th>min</th>\n",
       "      <td>11.114574</td>\n",
       "      <td>11.631977</td>\n",
       "      <td>11.028340</td>\n",
       "      <td>11.267879</td>\n",
       "      <td>9.043228</td>\n",
       "      <td>2.896100e+04</td>\n",
       "    </tr>\n",
       "    <tr>\n",
       "      <th>25%</th>\n",
       "      <td>68.815349</td>\n",
       "      <td>70.043875</td>\n",
       "      <td>67.253084</td>\n",
       "      <td>68.680405</td>\n",
       "      <td>52.078042</td>\n",
       "      <td>5.393492e+06</td>\n",
       "    </tr>\n",
       "    <tr>\n",
       "      <th>50%</th>\n",
       "      <td>146.844513</td>\n",
       "      <td>149.603004</td>\n",
       "      <td>142.779175</td>\n",
       "      <td>146.544021</td>\n",
       "      <td>132.790619</td>\n",
       "      <td>9.377462e+06</td>\n",
       "    </tr>\n",
       "    <tr>\n",
       "      <th>75%</th>\n",
       "      <td>333.562500</td>\n",
       "      <td>337.819389</td>\n",
       "      <td>326.836205</td>\n",
       "      <td>333.070015</td>\n",
       "      <td>330.372642</td>\n",
       "      <td>1.674081e+07</td>\n",
       "    </tr>\n",
       "    <tr>\n",
       "      <th>max</th>\n",
       "      <td>1038.000000</td>\n",
       "      <td>1065.599976</td>\n",
       "      <td>1030.400024</td>\n",
       "      <td>1046.650024</td>\n",
       "      <td>1043.430054</td>\n",
       "      <td>3.905778e+08</td>\n",
       "    </tr>\n",
       "  </tbody>\n",
       "</table>\n",
       "</div>"
      ],
      "text/plain": [
       "              Open         High          Low        Close    Adj Close  \\\n",
       "count  7138.000000  7138.000000  7138.000000  7138.000000  7138.000000   \n",
       "mean    211.315819   214.385869   207.818125   210.980768   203.117295   \n",
       "std     189.868939   191.860736   187.401432   189.547886   192.250175   \n",
       "min      11.114574    11.631977    11.028340    11.267879     9.043228   \n",
       "25%      68.815349    70.043875    67.253084    68.680405    52.078042   \n",
       "50%     146.844513   149.603004   142.779175   146.544021   132.790619   \n",
       "75%     333.562500   337.819389   326.836205   333.070015   330.372642   \n",
       "max    1038.000000  1065.599976  1030.400024  1046.650024  1043.430054   \n",
       "\n",
       "             Volume  \n",
       "count  7.138000e+03  \n",
       "mean   1.519189e+07  \n",
       "std    2.028181e+07  \n",
       "min    2.896100e+04  \n",
       "25%    5.393492e+06  \n",
       "50%    9.377462e+06  \n",
       "75%    1.674081e+07  \n",
       "max    3.905778e+08  "
      ]
     },
     "execution_count": 7,
     "metadata": {},
     "output_type": "execute_result"
    }
   ],
   "source": [
    "\n",
    "df.describe()"
   ]
  },
  {
   "cell_type": "code",
   "execution_count": 8,
   "metadata": {},
   "outputs": [
    {
     "name": "stdout",
     "output_type": "stream",
     "text": [
      "Dataframe Shape:  (7138, 7)\n",
      "Null Value Present:  False\n"
     ]
    }
   ],
   "source": [
    "#Print the shape of Dataframe  and Check for Null Values\n",
    "print('Dataframe Shape: ', df. shape)\n",
    "print('Null Value Present: ', df.isnull().values.any())"
   ]
  },
  {
   "cell_type": "code",
   "execution_count": 9,
   "metadata": {},
   "outputs": [
    {
     "data": {
      "text/plain": [
       "<Axes: >"
      ]
     },
     "execution_count": 9,
     "metadata": {},
     "output_type": "execute_result"
    },
    {
     "data": {
      "image/png": "[encoded data removed]",
      "text/plain": [
       "<Figure size 640x480 with 1 Axes>"
      ]
     },
     "metadata": {},
     "output_type": "display_data"
    }
   ],
   "source": [
    "#Plot the Close Value\n",
    "df['Close'].plot()"
   ]
  },
  {
   "cell_type": "code",
   "execution_count": 10,
   "metadata": {},
   "outputs": [],
   "source": [
    "#Set Target Variable\n",
    "output_var = pd.DataFrame(df['Close'])\n",
    "\n",
    "#Selecting the Feature\n",
    "features = ['Open', 'Low', 'High', 'Volume']"
   ]
  },
  {
   "cell_type": "code",
   "execution_count": 11,
   "metadata": {},
   "outputs": [
    {
     "data": {
      "text/html": [
       "<div>\n",
       "<style scoped>\n",
       "    .dataframe tbody tr th:only-of-type {\n",
       "        vertical-align: middle;\n",
       "    }\n",
       "\n",
       "    .dataframe tbody tr th {\n",
       "        vertical-align: top;\n",
       "    }\n",
       "\n",
       "    .dataframe thead th {\n",
       "        text-align: right;\n",
       "    }\n",
       "</style>\n",
       "<table border=\"1\" class=\"dataframe\">\n",
       "  <thead>\n",
       "    <tr style=\"text-align: right;\">\n",
       "      <th></th>\n",
       "      <th>Open</th>\n",
       "      <th>Low</th>\n",
       "      <th>High</th>\n",
       "      <th>Volume</th>\n",
       "    </tr>\n",
       "  </thead>\n",
       "  <tbody>\n",
       "    <tr>\n",
       "      <th>1178</th>\n",
       "      <td>0.054491</td>\n",
       "      <td>0.054507</td>\n",
       "      <td>0.052827</td>\n",
       "      <td>0.000951</td>\n",
       "    </tr>\n",
       "    <tr>\n",
       "      <th>1180</th>\n",
       "      <td>0.054491</td>\n",
       "      <td>0.054977</td>\n",
       "      <td>0.053736</td>\n",
       "      <td>0.000506</td>\n",
       "    </tr>\n",
       "    <tr>\n",
       "      <th>1181</th>\n",
       "      <td>0.055657</td>\n",
       "      <td>0.055917</td>\n",
       "      <td>0.054418</td>\n",
       "      <td>0.000741</td>\n",
       "    </tr>\n",
       "    <tr>\n",
       "      <th>1182</th>\n",
       "      <td>0.056357</td>\n",
       "      <td>0.056622</td>\n",
       "      <td>0.056691</td>\n",
       "      <td>0.002931</td>\n",
       "    </tr>\n",
       "    <tr>\n",
       "      <th>1183</th>\n",
       "      <td>0.058457</td>\n",
       "      <td>0.057797</td>\n",
       "      <td>0.057145</td>\n",
       "      <td>0.001670</td>\n",
       "    </tr>\n",
       "  </tbody>\n",
       "</table>\n",
       "</div>"
      ],
      "text/plain": [
       "          Open       Low      High    Volume\n",
       "1178  0.054491  0.054507  0.052827  0.000951\n",
       "1180  0.054491  0.054977  0.053736  0.000506\n",
       "1181  0.055657  0.055917  0.054418  0.000741\n",
       "1182  0.056357  0.056622  0.056691  0.002931\n",
       "1183  0.058457  0.057797  0.057145  0.001670"
      ]
     },
     "execution_count": 11,
     "metadata": {},
     "output_type": "execute_result"
    }
   ],
   "source": [
    "#Scaling\n",
    "scaler = MinMaxScaler()\n",
    "feature_transform = scaler.fit_transform(df[features]) # Scalling \n",
    "feature_transform= pd.DataFrame(columns=features, data=feature_transform, index=df.index) # Convert to saprate Dataframe \n",
    "feature_transform.head()"
   ]
  },
  {
   "cell_type": "code",
   "execution_count": 12,
   "metadata": {},
   "outputs": [],
   "source": [
    "#Splitting to Training set and Test set\n",
    "\n",
    "timesplit=TimeSeriesSplit(n_splits=5,test_size=int(len(df)*0.2)) # number of split \n",
    "for train_index, test_index in timesplit.split(feature_transform):\n",
    "        X_train, X_test = feature_transform[:len(train_index)], feature_transform[len(train_index): (len(train_index)+len(test_index))]\n",
    "        y_train, y_test = output_var[:len(train_index)].values.ravel(), output_var[len(train_index): (len(train_index)+len(test_index))].values.ravel()"
   ]
  },
  {
   "cell_type": "code",
   "execution_count": 13,
   "metadata": {},
   "outputs": [
    {
     "name": "stdout",
     "output_type": "stream",
     "text": [
      "Traning shape: (5711, 4)\n",
      "Test shape: (1427, 4)\n",
      "Traning Data percentage: 80.0084057158868\n",
      "Test Data percentage: 19.991594284113198\n"
     ]
    }
   ],
   "source": [
    "# Printing the shape of Training and Test set \n",
    "print(\"Traning shape:\", X_train.shape)\n",
    "print(\"Test shape:\", X_test.shape)\n",
    "\n",
    "print(\"Traning Data percentage:\", (X_train.shape[0]/(X_train.shape[0]+X_test.shape[0]))*100)\n",
    "print(\"Test Data percentage:\", (X_test.shape[0]/(X_train.shape[0]+X_test.shape[0]))*100)\n"
   ]
  },
  {
   "cell_type": "code",
   "execution_count": 14,
   "metadata": {},
   "outputs": [
    {
     "name": "stdout",
     "output_type": "stream",
     "text": [
      "Traning shape: (5711, 1, 4)\n",
      "Test shape: (1427, 1, 4)\n"
     ]
    }
   ],
   "source": [
    "#Process the data for LSTM & reshape the data for LSTM to (batch_size, timesteps, input_dim) \n",
    "\n",
    "trainX =np.array(X_train)\n",
    "testX =np.array(X_test)\n",
    "X_train = trainX.reshape(X_train.shape[0], 1, X_train.shape[1])\n",
    "X_test = testX.reshape(X_test.shape[0], 1, X_test.shape[1])\n",
    "\n",
    "print(\"Traning shape:\", X_train.shape)\n",
    "print(\"Test shape:\", X_test.shape)"
   ]
  },
  {
   "cell_type": "code",
   "execution_count": 18,
   "metadata": {},
   "outputs": [
    {
     "name": "stdout",
     "output_type": "stream",
     "text": [
      "WARNING:tensorflow:Layer lstm_4 will not use cuDNN kernels since it doesn't meet the criteria. It will use a generic GPU kernel as fallback when running on GPU.\n"
     ]
    },
    {
     "name": "stdout",
     "output_type": "stream",
     "text": [
      "WARNING:tensorflow:Layer lstm_5 will not use cuDNN kernels since it doesn't meet the criteria. It will use a generic GPU kernel as fallback when running on GPU.\n",
      "WARNING:tensorflow:Layer lstm_6 will not use cuDNN kernels since it doesn't meet the criteria. It will use a generic GPU kernel as fallback when running on GPU.\n",
      "WARNING:tensorflow:Layer lstm_7 will not use cuDNN kernels since it doesn't meet the criteria. It will use a generic GPU kernel as fallback when running on GPU.\n",
      "Model: \"sequential_1\"\n",
      "_________________________________________________________________\n",
      " Layer (type)                Output Shape              Param #   \n",
      "=================================================================\n",
      " lstm_4 (LSTM)               (None, 1, 256)            267264    \n",
      "                                                                 \n",
      " dropout_2 (Dropout)         (None, 1, 256)            0         \n",
      "                                                                 \n",
      " lstm_5 (LSTM)               (None, 1, 128)            197120    \n",
      "                                                                 \n",
      " dropout_3 (Dropout)         (None, 1, 128)            0         \n",
      "                                                                 \n",
      " lstm_6 (LSTM)               (None, 1, 64)             49408     \n",
      "                                                                 \n",
      " dropout_4 (Dropout)         (None, 1, 64)             0         \n",
      "                                                                 \n",
      " lstm_7 (LSTM)               (None, 1, 16)             5184      \n",
      "                                                                 \n",
      " dropout_5 (Dropout)         (None, 1, 16)             0         \n",
      "                                                                 \n",
      " dense_1 (Dense)             (None, 1, 1)              17        \n",
      "                                                                 \n",
      "=================================================================\n",
      "Total params: 518,993\n",
      "Trainable params: 518,993\n",
      "Non-trainable params: 0\n",
      "_________________________________________________________________\n"
     ]
    }
   ],
   "source": [
    "\n",
    "from tensorflow.keras.regularizers import l2\n",
    "\n",
    "\n",
    "#Building the LSTM Model\n",
    "\n",
    "lstm = Sequential()\n",
    "lstm.add(LSTM(units=256, input_shape=(1, trainX.shape[1]), activation='relu', return_sequences=True, \n",
    "            kernel_regularizer=l2(0.001), \n",
    "            use_bias=True))\n",
    "\n",
    "lstm.add(Dropout(0.2))\n",
    "lstm.add(LSTM(units=128, activation='relu', return_sequences=True))\n",
    "lstm.add(Dropout(0.3))\n",
    "lstm.add(LSTM(units=64, activation='relu', return_sequences=True))\n",
    "lstm.add(Dropout(0.2))\n",
    "lstm.add(LSTM(units=16, activation='relu', return_sequences=True))\n",
    "lstm.add(Dropout(0.3))\n",
    "lstm.add(Dense(1))\n",
    "\n",
    "# optimizer = Adam(learning_rate=0.001) \n",
    "optimizer = 'adam'\n",
    "\n",
    "lstm.compile(loss='mean_squared_error', \n",
    "             optimizer= optimizer, #'adam',\n",
    "            )\n",
    "\n",
    "# plot_model(lstm, show_shapes=True, show_layer_names=True)\n",
    "\n",
    "lstm.summary()\n"
   ]
  },
  {
   "cell_type": "code",
   "execution_count": 19,
   "metadata": {},
   "outputs": [],
   "source": [
    "# Model Check Point & Early Stopping\n",
    "\n",
    "Model_checkpoint_path = \"TataMotors_Stock_Price_Prediction.hdf5\"\n",
    "\n",
    "callback = [EarlyStopping(monitor='val_loss', patience = 10, verbose=1),\n",
    "            ModelCheckpoint(Model_checkpoint_path, monitor='val_loss', verbose=1, save_best_only=True, mode='auto')]"
   ]
  },
  {
   "cell_type": "code",
   "execution_count": 20,
   "metadata": {},
   "outputs": [
    {
     "name": "stdout",
     "output_type": "stream",
     "text": [
      "Epoch 1/500\n",
      "90/90 [==============================] - ETA: 0s - loss: 45443.8633\n",
      "Epoch 1: val_loss improved from inf to 88520.54688, saving model to TataMotors_Stock_Price_Prediction.hdf5\n",
      "90/90 [==============================] - 8s 55ms/step - loss: 45443.8633 - val_loss: 88520.5469\n",
      "Epoch 2/500\n",
      "90/90 [==============================] - ETA: 0s - loss: 5456.2144\n",
      "Epoch 2: val_loss improved from 88520.54688 to 4731.06494, saving model to TataMotors_Stock_Price_Prediction.hdf5\n",
      "90/90 [==============================] - 4s 43ms/step - loss: 5456.2144 - val_loss: 4731.0649\n",
      "Epoch 3/500\n",
      "90/90 [==============================] - ETA: 0s - loss: 5261.1035\n",
      "Epoch 3: val_loss improved from 4731.06494 to 4610.23975, saving model to TataMotors_Stock_Price_Prediction.hdf5\n",
      "90/90 [==============================] - 4s 42ms/step - loss: 5261.1035 - val_loss: 4610.2397\n",
      "Epoch 4/500\n",
      "89/90 [============================>.] - ETA: 0s - loss: 4699.0034\n",
      "Epoch 4: val_loss improved from 4610.23975 to 4464.33789, saving model to TataMotors_Stock_Price_Prediction.hdf5\n",
      "90/90 [==============================] - 4s 41ms/step - loss: 4690.5864 - val_loss: 4464.3379\n",
      "Epoch 5/500\n",
      "89/90 [============================>.] - ETA: 0s - loss: 4181.9673\n",
      "Epoch 5: val_loss improved from 4464.33789 to 4363.46094, saving model to TataMotors_Stock_Price_Prediction.hdf5\n",
      "90/90 [==============================] - 4s 42ms/step - loss: 4174.0288 - val_loss: 4363.4609\n",
      "Epoch 6/500\n",
      "90/90 [==============================] - ETA: 0s - loss: 3757.7334\n",
      "Epoch 6: val_loss improved from 4363.46094 to 4310.79346, saving model to TataMotors_Stock_Price_Prediction.hdf5\n",
      "90/90 [==============================] - 4s 42ms/step - loss: 3757.7334 - val_loss: 4310.7935\n",
      "Epoch 7/500\n",
      "89/90 [============================>.] - ETA: 0s - loss: 3412.9263\n",
      "Epoch 7: val_loss improved from 4310.79346 to 4287.04639, saving model to TataMotors_Stock_Price_Prediction.hdf5\n",
      "90/90 [==============================] - 4s 41ms/step - loss: 3406.0403 - val_loss: 4287.0464\n",
      "Epoch 8/500\n",
      "89/90 [============================>.] - ETA: 0s - loss: 3062.5168\n",
      "Epoch 8: val_loss did not improve from 4287.04639\n",
      "90/90 [==============================] - 4s 42ms/step - loss: 3056.3079 - val_loss: 4307.2598\n",
      "Epoch 9/500\n",
      "90/90 [==============================] - ETA: 0s - loss: 2799.1208\n",
      "Epoch 9: val_loss did not improve from 4287.04639\n",
      "90/90 [==============================] - 4s 41ms/step - loss: 2799.1208 - val_loss: 4312.5068\n",
      "Epoch 10/500\n",
      "89/90 [============================>.] - ETA: 0s - loss: 2586.9641\n",
      "Epoch 10: val_loss improved from 4287.04639 to 4271.39648, saving model to TataMotors_Stock_Price_Prediction.hdf5\n",
      "90/90 [==============================] - 4s 42ms/step - loss: 2581.5378 - val_loss: 4271.3965\n",
      "Epoch 11/500\n",
      "89/90 [============================>.] - ETA: 0s - loss: 2335.1187\n",
      "Epoch 11: val_loss improved from 4271.39648 to 4249.36182, saving model to TataMotors_Stock_Price_Prediction.hdf5\n",
      "90/90 [==============================] - 4s 42ms/step - loss: 2330.2795 - val_loss: 4249.3618\n",
      "Epoch 12/500\n",
      "90/90 [==============================] - ETA: 0s - loss: 2101.9778\n",
      "Epoch 12: val_loss improved from 4249.36182 to 4183.61426, saving model to TataMotors_Stock_Price_Prediction.hdf5\n",
      "90/90 [==============================] - 4s 43ms/step - loss: 2101.9778 - val_loss: 4183.6143\n",
      "Epoch 13/500\n",
      "89/90 [============================>.] - ETA: 0s - loss: 1892.8655\n",
      "Epoch 13: val_loss improved from 4183.61426 to 4118.78467, saving model to TataMotors_Stock_Price_Prediction.hdf5\n",
      "90/90 [==============================] - 4s 41ms/step - loss: 1888.9463 - val_loss: 4118.7847\n",
      "Epoch 14/500\n",
      "89/90 [============================>.] - ETA: 0s - loss: 1691.6819\n",
      "Epoch 14: val_loss improved from 4118.78467 to 4044.50879, saving model to TataMotors_Stock_Price_Prediction.hdf5\n",
      "90/90 [==============================] - 4s 41ms/step - loss: 1688.2135 - val_loss: 4044.5088\n",
      "Epoch 15/500\n",
      "90/90 [==============================] - ETA: 0s - loss: 1496.1615\n",
      "Epoch 15: val_loss improved from 4044.50879 to 3957.57593, saving model to TataMotors_Stock_Price_Prediction.hdf5\n",
      "90/90 [==============================] - 4s 42ms/step - loss: 1496.1615 - val_loss: 3957.5759\n",
      "Epoch 16/500\n",
      "89/90 [============================>.] - ETA: 0s - loss: 1336.5807\n",
      "Epoch 16: val_loss improved from 3957.57593 to 3865.96924, saving model to TataMotors_Stock_Price_Prediction.hdf5\n",
      "90/90 [==============================] - 4s 42ms/step - loss: 1333.8889 - val_loss: 3865.9692\n",
      "Epoch 17/500\n",
      "89/90 [============================>.] - ETA: 0s - loss: 1173.4911\n",
      "Epoch 17: val_loss improved from 3865.96924 to 3748.69141, saving model to TataMotors_Stock_Price_Prediction.hdf5\n",
      "90/90 [==============================] - 4s 41ms/step - loss: 1171.1510 - val_loss: 3748.6914\n",
      "Epoch 18/500\n",
      "90/90 [==============================] - ETA: 0s - loss: 1030.0896\n",
      "Epoch 18: val_loss improved from 3748.69141 to 3647.72607, saving model to TataMotors_Stock_Price_Prediction.hdf5\n",
      "90/90 [==============================] - 4s 42ms/step - loss: 1030.0896 - val_loss: 3647.7261\n",
      "Epoch 19/500\n",
      "89/90 [============================>.] - ETA: 0s - loss: 916.2368\n",
      "Epoch 19: val_loss improved from 3647.72607 to 3502.67480, saving model to TataMotors_Stock_Price_Prediction.hdf5\n",
      "90/90 [==============================] - 4s 42ms/step - loss: 914.4188 - val_loss: 3502.6748\n",
      "Epoch 20/500\n",
      "89/90 [============================>.] - ETA: 0s - loss: 816.3613\n",
      "Epoch 20: val_loss improved from 3502.67480 to 3386.00903, saving model to TataMotors_Stock_Price_Prediction.hdf5\n",
      "90/90 [==============================] - 4s 42ms/step - loss: 814.7606 - val_loss: 3386.0090\n",
      "Epoch 21/500\n",
      "90/90 [==============================] - ETA: 0s - loss: 734.8870\n",
      "Epoch 21: val_loss improved from 3386.00903 to 3297.68188, saving model to TataMotors_Stock_Price_Prediction.hdf5\n",
      "90/90 [==============================] - 4s 42ms/step - loss: 734.8870 - val_loss: 3297.6819\n",
      "Epoch 22/500\n",
      "89/90 [============================>.] - ETA: 0s - loss: 673.4474\n",
      "Epoch 22: val_loss improved from 3297.68188 to 3221.92261, saving model to TataMotors_Stock_Price_Prediction.hdf5\n",
      "90/90 [==============================] - 4s 42ms/step - loss: 672.2288 - val_loss: 3221.9226\n",
      "Epoch 23/500\n",
      "89/90 [============================>.] - ETA: 0s - loss: 625.5330\n",
      "Epoch 23: val_loss improved from 3221.92261 to 3133.72046, saving model to TataMotors_Stock_Price_Prediction.hdf5\n",
      "90/90 [==============================] - 4s 42ms/step - loss: 624.4740 - val_loss: 3133.7205\n",
      "Epoch 24/500\n",
      "89/90 [============================>.] - ETA: 0s - loss: 589.8944\n",
      "Epoch 24: val_loss improved from 3133.72046 to 3024.49927, saving model to TataMotors_Stock_Price_Prediction.hdf5\n",
      "90/90 [==============================] - 4s 42ms/step - loss: 588.9705 - val_loss: 3024.4993\n",
      "Epoch 25/500\n",
      "89/90 [============================>.] - ETA: 0s - loss: 566.8200\n",
      "Epoch 25: val_loss improved from 3024.49927 to 2902.52954, saving model to TataMotors_Stock_Price_Prediction.hdf5\n",
      "90/90 [==============================] - 4s 42ms/step - loss: 565.9979 - val_loss: 2902.5295\n",
      "Epoch 26/500\n",
      "90/90 [==============================] - ETA: 0s - loss: 548.0176\n",
      "Epoch 26: val_loss improved from 2902.52954 to 2794.49854, saving model to TataMotors_Stock_Price_Prediction.hdf5\n",
      "90/90 [==============================] - 4s 43ms/step - loss: 548.0176 - val_loss: 2794.4985\n",
      "Epoch 27/500\n",
      "89/90 [============================>.] - ETA: 0s - loss: 542.3580\n",
      "Epoch 27: val_loss improved from 2794.49854 to 2711.43896, saving model to TataMotors_Stock_Price_Prediction.hdf5\n",
      "90/90 [==============================] - 4s 41ms/step - loss: 541.7227 - val_loss: 2711.4390\n",
      "Epoch 28/500\n",
      "89/90 [============================>.] - ETA: 0s - loss: 534.6005\n",
      "Epoch 28: val_loss improved from 2711.43896 to 2653.66260, saving model to TataMotors_Stock_Price_Prediction.hdf5\n",
      "90/90 [==============================] - 4s 42ms/step - loss: 534.0604 - val_loss: 2653.6626\n",
      "Epoch 29/500\n",
      "89/90 [============================>.] - ETA: 0s - loss: 532.5646\n",
      "Epoch 29: val_loss improved from 2653.66260 to 2619.10962, saving model to TataMotors_Stock_Price_Prediction.hdf5\n",
      "90/90 [==============================] - 4s 43ms/step - loss: 532.1161 - val_loss: 2619.1096\n",
      "Epoch 30/500\n",
      "90/90 [==============================] - ETA: 0s - loss: 532.8855\n",
      "Epoch 30: val_loss improved from 2619.10962 to 2604.12622, saving model to TataMotors_Stock_Price_Prediction.hdf5\n",
      "90/90 [==============================] - 4s 42ms/step - loss: 532.8855 - val_loss: 2604.1262\n",
      "Epoch 31/500\n",
      "90/90 [==============================] - ETA: 0s - loss: 530.7368\n",
      "Epoch 31: val_loss improved from 2604.12622 to 2597.43213, saving model to TataMotors_Stock_Price_Prediction.hdf5\n",
      "90/90 [==============================] - 4s 43ms/step - loss: 530.7368 - val_loss: 2597.4321\n",
      "Epoch 32/500\n",
      "89/90 [============================>.] - ETA: 0s - loss: 536.9009\n",
      "Epoch 32: val_loss did not improve from 2597.43213\n",
      "90/90 [==============================] - 4s 42ms/step - loss: 536.6959 - val_loss: 2605.0356\n",
      "Epoch 33/500\n",
      "89/90 [============================>.] - ETA: 0s - loss: 535.5915\n",
      "Epoch 33: val_loss did not improve from 2597.43213\n",
      "90/90 [==============================] - 4s 42ms/step - loss: 535.4614 - val_loss: 2612.9299\n",
      "Epoch 34/500\n",
      "90/90 [==============================] - ETA: 0s - loss: 537.8420\n",
      "Epoch 34: val_loss did not improve from 2597.43213\n",
      "90/90 [==============================] - 4s 42ms/step - loss: 537.8420 - val_loss: 2627.0654\n",
      "Epoch 35/500\n",
      "89/90 [============================>.] - ETA: 0s - loss: 538.4191\n",
      "Epoch 35: val_loss did not improve from 2597.43213\n",
      "90/90 [==============================] - 4s 41ms/step - loss: 538.4091 - val_loss: 2640.9729\n",
      "Epoch 36/500\n",
      "89/90 [============================>.] - ETA: 0s - loss: 538.4958\n",
      "Epoch 36: val_loss did not improve from 2597.43213\n",
      "90/90 [==============================] - 4s 42ms/step - loss: 538.5410 - val_loss: 2657.5232\n",
      "Epoch 37/500\n",
      "89/90 [============================>.] - ETA: 0s - loss: 537.5828\n",
      "Epoch 37: val_loss did not improve from 2597.43213\n",
      "90/90 [==============================] - 4s 42ms/step - loss: 537.6777 - val_loss: 2674.2756\n",
      "Epoch 38/500\n",
      "89/90 [============================>.] - ETA: 0s - loss: 540.8121\n",
      "Epoch 38: val_loss did not improve from 2597.43213\n",
      "90/90 [==============================] - 4s 42ms/step - loss: 540.9354 - val_loss: 2692.1631\n",
      "Epoch 39/500\n",
      "90/90 [==============================] - ETA: 0s - loss: 537.6245\n",
      "Epoch 39: val_loss did not improve from 2597.43213\n",
      "90/90 [==============================] - 4s 42ms/step - loss: 537.6245 - val_loss: 2708.4858\n",
      "Epoch 40/500\n",
      "89/90 [============================>.] - ETA: 0s - loss: 540.3774\n",
      "Epoch 40: val_loss did not improve from 2597.43213\n",
      "90/90 [==============================] - 4s 42ms/step - loss: 540.5604 - val_loss: 2721.8513\n",
      "Epoch 41/500\n",
      "90/90 [==============================] - ETA: 0s - loss: 536.4102\n",
      "Epoch 41: val_loss did not improve from 2597.43213\n",
      "90/90 [==============================] - 4s 42ms/step - loss: 536.4102 - val_loss: 2735.8379\n",
      "Epoch 41: early stopping\n"
     ]
    }
   ],
   "source": [
    "with tf.device('GPU'):\n",
    "    history=lstm.fit(X_train, \n",
    "                     y_train, \n",
    "                     validation_data=(X_test,y_test),\n",
    "                     epochs=500, \n",
    "                     batch_size=64,\n",
    "                     verbose=1, \n",
    "                     shuffle=False, \n",
    "                     callbacks=callback)"
   ]
  },
  {
   "cell_type": "code",
   "execution_count": 21,
   "metadata": {},
   "outputs": [
    {
     "name": "stdout",
     "output_type": "stream",
     "text": [
      "45/45 [==============================] - 1s 13ms/step\n"
     ]
    },
    {
     "data": {
      "text/plain": [
       "(1427, 1, 1)"
      ]
     },
     "execution_count": 21,
     "metadata": {},
     "output_type": "execute_result"
    }
   ],
   "source": [
    "#LSTM Prediction\n",
    "y_pred= lstm.predict(X_test)\n",
    "y_pred.shape"
   ]
  },
  {
   "cell_type": "code",
   "execution_count": 22,
   "metadata": {},
   "outputs": [
    {
     "data": {
      "text/plain": [
       "(1427, 1)"
      ]
     },
     "execution_count": 22,
     "metadata": {},
     "output_type": "execute_result"
    }
   ],
   "source": [
    "\n",
    "y_pred = y_pred.reshape(-1,1)\n",
    "y_pred.shape"
   ]
  },
  {
   "cell_type": "code",
   "execution_count": 23,
   "metadata": {},
   "outputs": [
    {
     "data": {
      "text/plain": [
       "(1427,)"
      ]
     },
     "execution_count": 23,
     "metadata": {},
     "output_type": "execute_result"
    }
   ],
   "source": [
    "y_test.shape"
   ]
  },
  {
   "cell_type": "code",
   "execution_count": 24,
   "metadata": {},
   "outputs": [
    {
     "data": {
      "image/png": "[encoded data removed]",
      "text/plain": [
       "<Figure size 640x480 with 1 Axes>"
      ]
     },
     "metadata": {},
     "output_type": "display_data"
    }
   ],
   "source": [
    "from matplotlib import pyplot as plt\n",
    "\n",
    "#Predicted vs True Adj Close Value – LSTM\n",
    "\n",
    "plt.plot(y_test, label='True Value')\n",
    "plt.plot(y_pred, label='LSTM Value')\n",
    "plt.title('Prediction by LSTM')\n",
    "plt.xlabel('Time Scale')\n",
    "plt.ylabel('Scaled USD')\n",
    "plt.legend()\n",
    "plt.show()"
   ]
  },
  {
   "cell_type": "code",
   "execution_count": 28,
   "metadata": {},
   "outputs": [
    {
     "name": "stdout",
     "output_type": "stream",
     "text": [
      "Mean Squared Error (MSE): 1395.7242528525298\n",
      "Mean Absolute Error (MAE): 35.24168324404762\n",
      "       Actual   Predicted  Difference\n",
      "0  985.900024  958.524414   27.375610\n",
      "1  977.349976  948.201416   29.148560\n",
      "2  978.250000  942.967102   35.282898\n",
      "3  961.799988  936.981567   24.818421\n",
      "4  958.049988  919.014587   39.035401\n"
     ]
    }
   ],
   "source": [
    "import numpy as np\n",
    "import pandas as pd\n",
    "from sklearn.metrics import mean_squared_error, mean_absolute_error\n",
    "\n",
    "# Load and prepare the test data\n",
    "df_test = pd.read_csv('DataSets/TATAMOTORS_18_JUN_2024_18_AUG_2024.csv')\n",
    "df_test = df_test.dropna()\n",
    "df_test = df_test[df_test['Volume'] != 0]\n",
    "\n",
    "# Select the features and the target\n",
    "X_test = df_test[['Open', 'Low', 'High', 'Volume']]\n",
    "y_test = df_test['Close']\n",
    "\n",
    "# Scale the test features using the same scaler as the training data\n",
    "X_test_scaled = scaler.transform(X_test)\n",
    "\n",
    "# Reshape the test data to match the input shape expected by the LSTM model\n",
    "X_test_scaled = X_test_scaled.reshape(X_test_scaled.shape[0], 1, X_test_scaled.shape[1])\n",
    "\n",
    "# Predict the close prices using the LSTM model\n",
    "predictions = lstm.predict(X_test_scaled, verbose=0)\n",
    "\n",
    "# Reshape predictions and true values to be 1D arrays\n",
    "predictions = predictions.flatten()\n",
    "y_test = y_test.values\n",
    "\n",
    "# Calculate evaluation metrics\n",
    "mse = mean_squared_error(y_test, predictions)\n",
    "mae = mean_absolute_error(y_test, predictions)\n",
    "\n",
    "print(f\"Mean Squared Error (MSE): {mse}\")\n",
    "print(f\"Mean Absolute Error (MAE): {mae}\")\n",
    "\n",
    "# Optional: Print out the first few predictions alongside the actual values\n",
    "df_results = pd.DataFrame({\n",
    "    'Actual': y_test,\n",
    "    'Predicted': predictions,\n",
    "    'Difference': y_test - predictions\n",
    "})\n",
    "\n",
    "print(df_results.head())\n"
   ]
  },
  {
   "cell_type": "code",
   "execution_count": 29,
   "metadata": {},
   "outputs": [
    {
     "data": {
      "image/png": "[encoded data removed]",
      "text/plain": [
       "<Figure size 1400x700 with 1 Axes>"
      ]
     },
     "metadata": {},
     "output_type": "display_data"
    }
   ],
   "source": [
    "import matplotlib.pyplot as plt\n",
    "\n",
    "# Plotting the actual vs predicted close prices\n",
    "plt.figure(figsize=(14, 7))\n",
    "plt.plot(df_test.index, y_test, color='blue', label='Actual Close Prices')\n",
    "plt.plot(df_test.index, predictions, color='red', linestyle='--', label='Predicted Close Prices')\n",
    "plt.title('Actual vs Predicted Close Prices')\n",
    "plt.xlabel('Time')\n",
    "plt.ylabel('Close Price')\n",
    "plt.legend()\n",
    "plt.show()\n"
   ]
  },
  {
   "cell_type": "code",
   "execution_count": 30,
   "metadata": {},
   "outputs": [],
   "source": [
    "lstm.save('TataMotors_Stock_Price_Prediction_28_Diff.h5')"
   ]
  },
  {
   "cell_type": "code",
   "execution_count": null,
   "metadata": {},
   "outputs": [],
   "source": []
  }
 ],
 "metadata": {
  "kernelspec": {
   "display_name": "Stock_Price_Prediction_Env",
   "language": "python",
   "name": "python3"
  },
  "language_info": {
   "codemirror_mode": {
    "name": "ipython",
    "version": 3
   },
   "file_extension": ".py",
   "mimetype": "text/x-python",
   "name": "python",
   "nbconvert_exporter": "python",
   "pygments_lexer": "ipython3",
   "version": "3.9.19"
  }
 },
 "nbformat": 4,
 "nbformat_minor": 2
}
